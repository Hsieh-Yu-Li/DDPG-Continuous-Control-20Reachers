{
 "cells": [
  {
   "cell_type": "markdown",
   "metadata": {},
   "source": [
    "# Continuous Control\n",
    "\n",
    "---\n",
    "\n",
    "You are welcome to use this coding environment to train your agent for the project.  Follow the instructions below to get started!\n",
    "\n",
    "### 1. Start the Environment\n",
    "\n",
    "Run the next code cell to install a few packages.  This line will take a few minutes to run!"
   ]
  },
  {
   "cell_type": "code",
   "execution_count": 1,
   "metadata": {},
   "outputs": [],
   "source": [
    "!pip -q install ./python"
   ]
  },
  {
   "cell_type": "markdown",
   "metadata": {},
   "source": [
    "The environments corresponding to both versions of the environment are already saved in the Workspace and can be accessed at the file paths provided below.  \n",
    "\n",
    "Please select one of the two options below for loading the environment."
   ]
  },
  {
   "cell_type": "code",
   "execution_count": 2,
   "metadata": {},
   "outputs": [
    {
     "name": "stderr",
     "output_type": "stream",
     "text": [
      "INFO:unityagents:\n",
      "'Academy' started successfully!\n",
      "Unity Academy name: Academy\n",
      "        Number of Brains: 1\n",
      "        Number of External Brains : 1\n",
      "        Lesson number : 0\n",
      "        Reset Parameters :\n",
      "\t\tgoal_speed -> 1.0\n",
      "\t\tgoal_size -> 5.0\n",
      "Unity brain name: ReacherBrain\n",
      "        Number of Visual Observations (per agent): 0\n",
      "        Vector Observation space type: continuous\n",
      "        Vector Observation space size (per agent): 33\n",
      "        Number of stacked Vector Observation: 1\n",
      "        Vector Action space type: continuous\n",
      "        Vector Action space size (per agent): 4\n",
      "        Vector Action descriptions: , , , \n"
     ]
    }
   ],
   "source": [
    "from unityagents import UnityEnvironment\n",
    "import numpy as np\n",
    "\n",
    "# select this option to load version 2 (with 20 agents) of the environment\n",
    "env = UnityEnvironment(file_name='/home/straight/Programming/JupyterNotebook/DRL nanodegree/3. Policy-Based methods/p2_continuous-control/Reacher_Linux/Reacher.x86_64')\n",
    "#env = UnityEnvironment(file_name='/home/straight/Programming/JupyterNotebook/DRL nanodegree/3. Policy-Based methods/p2_continuous-control/Reacher_Linux/Reacher.x86_64', no_graphics=True)\n",
    "\n"
   ]
  },
  {
   "cell_type": "markdown",
   "metadata": {},
   "source": [
    "Environments contain **_brains_** which are responsible for deciding the actions of their associated agents. Here we check for the first brain available, and set it as the default brain we will be controlling from Python."
   ]
  },
  {
   "cell_type": "code",
   "execution_count": 3,
   "metadata": {},
   "outputs": [],
   "source": [
    "# get the default brain\n",
    "brain_name = env.brain_names[0]\n",
    "brain = env.brains[brain_name]"
   ]
  },
  {
   "cell_type": "markdown",
   "metadata": {},
   "source": [
    "### 2. Examine the State and Action Spaces\n",
    "\n",
    "Run the code cell below to print some information about the environment."
   ]
  },
  {
   "cell_type": "code",
   "execution_count": 4,
   "metadata": {},
   "outputs": [
    {
     "name": "stdout",
     "output_type": "stream",
     "text": [
      "Number of agents: 20\n",
      "Size of each action: 4\n",
      "There are 20 agents. Each observes a state with length: 33\n",
      "The state for the first agent looks like: [ 0.00000000e+00 -4.00000000e+00  0.00000000e+00  1.00000000e+00\n",
      " -0.00000000e+00 -0.00000000e+00 -4.37113883e-08  0.00000000e+00\n",
      "  0.00000000e+00  0.00000000e+00  0.00000000e+00  0.00000000e+00\n",
      "  0.00000000e+00  0.00000000e+00 -1.00000000e+01  0.00000000e+00\n",
      "  1.00000000e+00 -0.00000000e+00 -0.00000000e+00 -4.37113883e-08\n",
      "  0.00000000e+00  0.00000000e+00  0.00000000e+00  0.00000000e+00\n",
      "  0.00000000e+00  0.00000000e+00  5.75471878e+00 -1.00000000e+00\n",
      "  5.55726624e+00  0.00000000e+00  1.00000000e+00  0.00000000e+00\n",
      " -1.68164849e-01]\n"
     ]
    }
   ],
   "source": [
    "# reset the environment\n",
    "env_info = env.reset(train_mode=True)[brain_name]\n",
    "\n",
    "# number of agents\n",
    "num_agents = len(env_info.agents)\n",
    "print('Number of agents:', num_agents)\n",
    "\n",
    "# size of each action\n",
    "action_size = brain.vector_action_space_size\n",
    "print('Size of each action:', action_size)\n",
    "\n",
    "# examine the state space \n",
    "states = env_info.vector_observations\n",
    "state_size = states.shape[1]\n",
    "print('There are {} agents. Each observes a state with length: {}'.format(states.shape[0], state_size))\n",
    "print('The state for the first agent looks like:', states[0])"
   ]
  },
  {
   "cell_type": "markdown",
   "metadata": {},
   "source": [
    "### 3. Take Random Actions in the Environment\n",
    "\n",
    "In the next code cell, you will learn how to use the Python API to control the agent and receive feedback from the environment.\n",
    "\n",
    "Note that **in this coding environment, you will not be able to watch the agents while they are training**, and you should set `train_mode=True` to restart the environment."
   ]
  },
  {
   "cell_type": "code",
   "execution_count": 5,
   "metadata": {},
   "outputs": [
    {
     "name": "stdout",
     "output_type": "stream",
     "text": [
      "Total score (averaged over agents) this episode: 0.14299999680370093\n"
     ]
    }
   ],
   "source": [
    "env_info = env.reset(train_mode=True)[brain_name]      # reset the environment    \n",
    "states = env_info.vector_observations                  # get the current state (for each agent)\n",
    "scores = np.zeros(num_agents)                          # initialize the score (for each agent)\n",
    "while True:\n",
    "    actions = np.random.randn(num_agents, action_size) # select an action (for each agent)\n",
    "    actions = np.clip(actions, -1, 1)                  # all actions between -1 and 1\n",
    "    env_info = env.step(actions)[brain_name]           # send all actions to tne environment\n",
    "    next_states = env_info.vector_observations         # get next state (for each agent)\n",
    "    rewards = env_info.rewards                         # get reward (for each agent)\n",
    "    dones = env_info.local_done                        # see if episode finished\n",
    "    scores += env_info.rewards                         # update the score (for each agent)\n",
    "    states = next_states                               # roll over states to next time step\n",
    "    if np.any(dones):                                  # exit loop if episode finished\n",
    "        break\n",
    "print('Total score (averaged over agents) this episode: {}'.format(np.mean(scores)))"
   ]
  },
  {
   "cell_type": "markdown",
   "metadata": {},
   "source": [
    "### 4. DDPG agent"
   ]
  },
  {
   "cell_type": "markdown",
   "metadata": {},
   "source": [
    "A few **important notes**:\n",
    "- When training the environment, set `train_mode=True`, so that the line for resetting the environment looks like the following:\n",
    "```python\n",
    "env_info = env.reset(train_mode=True)[brain_name]\n",
    "```\n",
    "- To structure your work, you're welcome to work directly in this Jupyter notebook, or you might like to start over with a new file!  You can see the list of files in the workspace by clicking on **_Jupyter_** in the top left corner of the notebook.\n",
    "- In this coding environment, you will not be able to watch the agents while they are training.  However, **_after training the agents_**, you can download the saved model weights to watch the agents on your own machine! "
   ]
  },
  {
   "cell_type": "code",
   "execution_count": 5,
   "metadata": {},
   "outputs": [],
   "source": [
    "# import packages\n",
    "import random\n",
    "import torch\n",
    "from collections import deque\n",
    "import matplotlib.pyplot as plt\n",
    "import time\n",
    "%matplotlib inline\n",
    "\n",
    "from ddpg_agent import Agent"
   ]
  },
  {
   "cell_type": "code",
   "execution_count": 6,
   "metadata": {},
   "outputs": [
    {
     "name": "stdout",
     "output_type": "stream",
     "text": [
      "LR_Actor 0.0001\n"
     ]
    }
   ],
   "source": [
    "# load the agent with DDPG algorithm\n",
    "agent = Agent(state_size=state_size, action_size=action_size, n_agents = num_agents, random_seed=2)"
   ]
  },
  {
   "cell_type": "markdown",
   "metadata": {},
   "source": [
    "#### train the agent using DDPG"
   ]
  },
  {
   "cell_type": "code",
   "execution_count": 8,
   "metadata": {},
   "outputs": [],
   "source": [
    "score_threshold=30.0\n",
    "\n",
    "def ddpg(n_episodes=1000, max_t=2000, print_interval=20):\n",
    "    \n",
    "    scores_deque = deque(maxlen=100)\n",
    "    scores = []         # initialize scores for all episodes\n",
    "    max_score = -np.Inf\n",
    "    \n",
    "    time_elapsed = 0 # initialize the time\n",
    "    \n",
    "    ### start training ###\n",
    "    for i_episode in range(1, n_episodes+1):\n",
    "        time_beginning = time.time() # starting time for this episode\n",
    "        # initialize the environment\n",
    "        env_info = env.reset(train_mode=True)[brain_name]    # reset the environment\n",
    "        states = env_info.vector_observations                # get the current state (for each agent)\n",
    "        \n",
    "        agent.reset()     # reset the agent\n",
    "        episode_score = np.zeros(num_agents) # initialize the score in one episode \n",
    "        \n",
    "        ###### start one episode training\n",
    "        for t in range(max_t):\n",
    "            actions = agent.act(states)                      # select an action (for each agent) using DDPG\n",
    "            \n",
    "            # take actions\n",
    "            env_info = env.step(actions)[brain_name]        # send all actions to tne environment \n",
    "            next_states = env_info.vector_observations      # get next state (for each agent)\n",
    "            rewards = env_info.rewards                      # get reward (for each agent\n",
    "            dones = env_info.local_done                     # see if episode finished\n",
    "\n",
    "            agent.step(states, actions, rewards, next_states, dones, t)\n",
    "            #print(\"***Reward:\", rewards) # test\n",
    "            episode_score += np.array(rewards)\n",
    "            states = next_states\n",
    "            if np.any(dones):\n",
    "                break\n",
    "        ##### end of max_t (finish one episode)\n",
    "        time_end = time.time() # ending time for this episode\n",
    "        # calculate the scores\n",
    "        mean_episode_score = np.mean(episode_score)    # take average scores for one episode\n",
    "        \n",
    "        scores_deque.append(mean_episode_score)\n",
    "        average_score = np.mean(scores_deque) # average scores\n",
    "        \n",
    "        scores.append(mean_episode_score) # attach episode score to scores (for all episode)\n",
    "        \n",
    "        # calculate time\n",
    "        time_elapsed = time_elapsed + (time_end - time_beginning) # how much time it takes for one episodes\n",
    "\n",
    "        # save the weights\n",
    "        print('\\rEpisode {}\\tAverage Score: {:.2f}\\tCurrent Score: {:.2f}\\tTime: {:.2f} s'.format(i_episode, average_score, mean_episode_score, time_elapsed), end=\"\")\n",
    "        torch.save(agent.actor_local.state_dict(), 'checkpoint_actor.pth')\n",
    "        torch.save(agent.critic_local.state_dict(), 'checkpoint_critic.pth')\n",
    "        \n",
    "        # print average scores\n",
    "        if i_episode % print_interval == 0:\n",
    "            print('\\rEpisode {}\\tAverage Score: {:.2f}\\tCurrent Score: {:.2f}\\tTime: {:.2f} s'.format(i_episode, average_score, mean_episode_score, time_elapsed))\n",
    "        \n",
    "        # stop the training the score is more than required\n",
    "        if average_score >= score_threshold:\n",
    "            print('\\nEnvironment solved in {} episodes!\\tAverage Score: {:.2f}'.format(i_episode, average_score))\n",
    "            torch.save(agent.actor_local.state_dict(), 'checkpoint_actor.pth')\n",
    "            torch.save(agent.critic_local.state_dict(), 'checkpoint_critic.pth')\n",
    "            break\n",
    "            \n",
    "        # stop the training if it doesn't work\n",
    "        if i_episode > 30 and average_score < 0.1:\n",
    "            print(\"\\nThe training has stopped because it is not working. Please redesign the algorithm\")\n",
    "            break\n",
    "            \n",
    "    ### end of training (finished all episodes)\n",
    "\n",
    "        \n",
    "    np.save('scores.npy', scores)\n",
    "    return scores\n"
   ]
  },
  {
   "cell_type": "code",
   "execution_count": 9,
   "metadata": {},
   "outputs": [
    {
     "name": "stdout",
     "output_type": "stream",
     "text": [
      "Episode 20\tAverage Score: 0.20\tCurrent Score: 0.36\tTime: 244.77 s\n",
      "Episode 40\tAverage Score: 0.75\tCurrent Score: 1.93\tTime: 564.79 s\n",
      "Episode 60\tAverage Score: 1.59\tCurrent Score: 4.49\tTime: 917.47 s\n",
      "Episode 80\tAverage Score: 2.53\tCurrent Score: 6.86\tTime: 1290.02 s\n",
      "Episode 100\tAverage Score: 3.47\tCurrent Score: 8.39\tTime: 1666.56 s\n",
      "Episode 120\tAverage Score: 5.17\tCurrent Score: 9.91\tTime: 2031.40 s\n",
      "Episode 140\tAverage Score: 7.10\tCurrent Score: 13.08\tTime: 2389.38 s\n",
      "Episode 160\tAverage Score: 9.16\tCurrent Score: 15.09\tTime: 2756.69 s\n",
      "Episode 180\tAverage Score: 11.31\tCurrent Score: 16.61\tTime: 3113.99 s\n",
      "Episode 200\tAverage Score: 13.68\tCurrent Score: 19.95\tTime: 3472.58 s\n",
      "Episode 220\tAverage Score: 16.47\tCurrent Score: 26.39\tTime: 3837.45 s\n",
      "Episode 240\tAverage Score: 19.81\tCurrent Score: 32.25\tTime: 4210.14 s\n",
      "Episode 260\tAverage Score: 23.78\tCurrent Score: 33.03\tTime: 4586.21 s\n",
      "Episode 280\tAverage Score: 27.59\tCurrent Score: 35.17\tTime: 4954.08 s\n",
      "Episode 295\tAverage Score: 30.05\tCurrent Score: 35.14\tTime: 5230.40 s\n",
      "Environment solved in 295 episodes!\tAverage Score: 30.05\n"
     ]
    }
   ],
   "source": [
    "scores = ddpg()"
   ]
  },
  {
   "cell_type": "code",
   "execution_count": 10,
   "metadata": {},
   "outputs": [
    {
     "data": {
      "image/png": "[encoded data removed]",
      "text/plain": [
       "<Figure size 432x288 with 1 Axes>"
      ]
     },
     "metadata": {
      "needs_background": "light"
     },
     "output_type": "display_data"
    }
   ],
   "source": [
    "# plot the reward figures\n",
    "fig = plt.figure()\n",
    "ax = fig.add_subplot(111)\n",
    "plt.plot(np.arange(1, len(scores)+1), scores)\n",
    "plt.ylabel('Score')\n",
    "plt.xlabel('Episode #')\n",
    "plt.show()"
   ]
  },
  {
   "cell_type": "markdown",
   "metadata": {},
   "source": [
    "### 5 Run the trained agent"
   ]
  },
  {
   "cell_type": "code",
   "execution_count": 7,
   "metadata": {},
   "outputs": [],
   "source": [
    "# load the weights to the agent\n",
    "agent.actor_local.load_state_dict(torch.load('checkpoint_actor.pth'))\n",
    "agent.critic_local.load_state_dict(torch.load('checkpoint_critic.pth'))"
   ]
  },
  {
   "cell_type": "code",
   "execution_count": 8,
   "metadata": {},
   "outputs": [
    {
     "name": "stdout",
     "output_type": "stream",
     "text": [
      "Total score (averaged over agents) this episode: 36.15799919180572\n"
     ]
    }
   ],
   "source": [
    "env_info = env.reset(train_mode=False)[brain_name]      # reset the environment    \n",
    "states = env_info.vector_observations                  # get the current state (for each agent)\n",
    "scores = np.zeros(num_agents)                          # initialize the score (for each agent)\n",
    "\n",
    "while True:\n",
    "    actions = agent.act(states)       # select an action (for each agent)\n",
    "    \n",
    "    # take action\n",
    "    env_info = env.step(actions)[brain_name]           # send all actions to tne environment\n",
    "    next_states = env_info.vector_observations         # get next state (for each agent)\n",
    "    rewards = env_info.rewards                         # get reward (for each agent)\n",
    "    dones = env_info.local_done                        # see if episode finished\n",
    "    scores += env_info.rewards                         # update the score (for each agent)\n",
    "    states = next_states                               # roll over states to next time step\n",
    "    \n",
    "    if np.any(dones):                                  # exit loop if episode finished\n",
    "        break\n",
    "print('Total score (averaged over agents) this episode: {}'.format(np.mean(scores)))"
   ]
  },
  {
   "cell_type": "markdown",
   "metadata": {},
   "source": [
    "### 6. Close the environment"
   ]
  },
  {
   "cell_type": "markdown",
   "metadata": {},
   "source": [
    "When finished, you can close the environment."
   ]
  },
  {
   "cell_type": "code",
   "execution_count": null,
   "metadata": {},
   "outputs": [],
   "source": [
    "env.close()"
   ]
  }
 ],
 "metadata": {
  "kernelspec": {
   "display_name": "ND",
   "language": "python",
   "name": "nd"
  },
  "language_info": {
   "codemirror_mode": {
    "name": "ipython",
    "version": 3
   },
   "file_extension": ".py",
   "mimetype": "text/x-python",
   "name": "python",
   "nbconvert_exporter": "python",
   "pygments_lexer": "ipython3",
   "version": "3.6.8"
  }
 },
 "nbformat": 4,
 "nbformat_minor": 2
}
